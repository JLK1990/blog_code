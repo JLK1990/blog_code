{
 "cells": [
  {
   "cell_type": "markdown",
   "metadata": {},
   "source": [
    "A module for calculating the bounding box around a given origin and radius"
   ]
  },
  {
   "cell_type": "code",
   "execution_count": 34,
   "metadata": {
    "collapsed": false
   },
   "outputs": [],
   "source": [
    "import math\n"
   ]
  },
  {
   "cell_type": "code",
   "execution_count": 45,
   "metadata": {
    "collapsed": true
   },
   "outputs": [],
   "source": [
    "origin = (42.9446,-122.1090)\n",
    "radius = 10 # miles"
   ]
  },
  {
   "cell_type": "code",
   "execution_count": 46,
   "metadata": {
    "collapsed": false
   },
   "outputs": [],
   "source": [
    "latitude = origin[0]\n",
    "longitude = origin[1]"
   ]
  },
  {
   "cell_type": "code",
   "execution_count": 47,
   "metadata": {
    "collapsed": false
   },
   "outputs": [],
   "source": [
    "lat_plus = latitude + radius/69  #69 miles / 1deg latitude\n",
    "lat_minus = latitude - radius/69\n",
    "long_plus = longitude + radius/(69.17 * math.cos(lat_plus))\n",
    "long_minus = longitude - radius/(69.17 * math.cos(lat_minus))"
   ]
  },
  {
   "cell_type": "markdown",
   "metadata": {},
   "source": [
    "Depending on your origin point, you may need to check which longitude value is lower for creating the SQL query; the BETWEEN directive expects \"a between b and c\", where b < c"
   ]
  },
  {
   "cell_type": "code",
   "execution_count": 48,
   "metadata": {
    "collapsed": false
   },
   "outputs": [
    {
     "data": {
      "text/plain": [
       "[43.089527536231884,\n",
       " 42.79967246376812,\n",
       " -121.87851831918479,\n",
       " -122.49096195780027]"
      ]
     },
     "execution_count": 48,
     "metadata": {},
     "output_type": "execute_result"
    }
   ],
   "source": [
    "[lat_plus, lat_minus, long_plus, long_minus]"
   ]
  },
  {
   "cell_type": "markdown",
   "metadata": {},
   "source": [
    "Create a query based on the lat/long boundaries. "
   ]
  },
  {
   "cell_type": "code",
   "execution_count": 49,
   "metadata": {
    "collapsed": false
   },
   "outputs": [],
   "source": [
    "query = \"select facilityname, facilitylatitude, facilitylongitude, sites_available, cg_fcfs, cg_flush, cg_shower, cg_vault \\\n",
    "from daily \\\n",
    "where facilitylatitude between \" + str(lat_minus) + \" and \" + str(lat_plus) + \" and \\\n",
    "facilitylongitude between \" + str(long_minus) + \" and \" + str(long_plus) + \";\""
   ]
  },
  {
   "cell_type": "code",
   "execution_count": 50,
   "metadata": {
    "collapsed": false
   },
   "outputs": [
    {
     "data": {
      "text/plain": [
       "'select facilityname, facilitylatitude, facilitylongitude, sites_available, cg_fcfs, cg_flush, cg_shower, cg_vault from daily where facilitylatitude between 42.79967246376812 and 43.089527536231884 and facilitylongitude between -122.49096195780027 and -121.87851831918479;'"
      ]
     },
     "execution_count": 50,
     "metadata": {},
     "output_type": "execute_result"
    }
   ],
   "source": [
    "query"
   ]
  },
  {
   "cell_type": "code",
   "execution_count": null,
   "metadata": {
    "collapsed": true
   },
   "outputs": [],
   "source": []
  }
 ],
 "metadata": {
  "kernelspec": {
   "display_name": "Python 3",
   "language": "python",
   "name": "python3"
  },
  "language_info": {
   "codemirror_mode": {
    "name": "ipython",
    "version": 3
   },
   "file_extension": ".py",
   "mimetype": "text/x-python",
   "name": "python",
   "nbconvert_exporter": "python",
   "pygments_lexer": "ipython3",
   "version": "3.4.3"
  }
 },
 "nbformat": 4,
 "nbformat_minor": 0
}
