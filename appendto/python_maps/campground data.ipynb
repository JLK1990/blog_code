{
 "cells": [
  {
   "cell_type": "code",
   "execution_count": 1,
   "metadata": {
    "collapsed": true
   },
   "outputs": [],
   "source": [
    "import pandas as pd\n",
    "import numpy as np"
   ]
  },
  {
   "cell_type": "code",
   "execution_count": 2,
   "metadata": {
    "collapsed": true
   },
   "outputs": [],
   "source": [
    "cg_data = pd.read_csv('campgrounds.csv')"
   ]
  },
  {
   "cell_type": "code",
   "execution_count": 3,
   "metadata": {
    "collapsed": false
   },
   "outputs": [
    {
     "data": {
      "text/plain": [
       "(11, 8)"
      ]
     },
     "execution_count": 3,
     "metadata": {},
     "output_type": "execute_result"
    }
   ],
   "source": [
    "cg_data.shape"
   ]
  },
  {
   "cell_type": "code",
   "execution_count": 4,
   "metadata": {
    "collapsed": false
   },
   "outputs": [
    {
     "data": {
      "text/html": [
       "<div>\n",
       "<table border=\"1\" class=\"dataframe\">\n",
       "  <thead>\n",
       "    <tr style=\"text-align: right;\">\n",
       "      <th></th>\n",
       "      <th>facilityname</th>\n",
       "      <th>facilitylatitude</th>\n",
       "      <th>facilitylongitude</th>\n",
       "      <th>sites_available</th>\n",
       "      <th>firstcome</th>\n",
       "      <th>flush</th>\n",
       "      <th>shower</th>\n",
       "      <th>vault</th>\n",
       "    </tr>\n",
       "  </thead>\n",
       "  <tbody>\n",
       "    <tr>\n",
       "      <th>0</th>\n",
       "      <td>Mazama</td>\n",
       "      <td>42.865508</td>\n",
       "      <td>-122.166149</td>\n",
       "      <td>\\N</td>\n",
       "      <td>\\N</td>\n",
       "      <td>1</td>\n",
       "      <td>1</td>\n",
       "      <td>\\N</td>\n",
       "    </tr>\n",
       "    <tr>\n",
       "      <th>1</th>\n",
       "      <td>Claude Lewis Sno-Park-USFS</td>\n",
       "      <td>43.063217</td>\n",
       "      <td>-122.342876</td>\n",
       "      <td>\\N</td>\n",
       "      <td>\\N</td>\n",
       "      <td>\\N</td>\n",
       "      <td>\\N</td>\n",
       "      <td>1</td>\n",
       "    </tr>\n",
       "    <tr>\n",
       "      <th>2</th>\n",
       "      <td>Lost Creek</td>\n",
       "      <td>42.879145</td>\n",
       "      <td>-122.037881</td>\n",
       "      <td>\\N</td>\n",
       "      <td>1</td>\n",
       "      <td>1</td>\n",
       "      <td>\\N</td>\n",
       "      <td>\\N</td>\n",
       "    </tr>\n",
       "    <tr>\n",
       "      <th>3</th>\n",
       "      <td>Hamaker</td>\n",
       "      <td>43.056641</td>\n",
       "      <td>-122.330322</td>\n",
       "      <td>\\N</td>\n",
       "      <td>\\N</td>\n",
       "      <td>\\N</td>\n",
       "      <td>\\N</td>\n",
       "      <td>1</td>\n",
       "    </tr>\n",
       "    <tr>\n",
       "      <th>4</th>\n",
       "      <td>Huckleberry Mountain</td>\n",
       "      <td>42.877807</td>\n",
       "      <td>-122.337174</td>\n",
       "      <td>\\N</td>\n",
       "      <td>\\N</td>\n",
       "      <td>\\N</td>\n",
       "      <td>\\N</td>\n",
       "      <td>1</td>\n",
       "    </tr>\n",
       "  </tbody>\n",
       "</table>\n",
       "</div>"
      ],
      "text/plain": [
       "                 facilityname  facilitylatitude  facilitylongitude  \\\n",
       "0                      Mazama         42.865508        -122.166149   \n",
       "1  Claude Lewis Sno-Park-USFS         43.063217        -122.342876   \n",
       "2                  Lost Creek         42.879145        -122.037881   \n",
       "3                     Hamaker         43.056641        -122.330322   \n",
       "4        Huckleberry Mountain         42.877807        -122.337174   \n",
       "\n",
       "  sites_available firstcome flush shower vault  \n",
       "0              \\N        \\N     1      1    \\N  \n",
       "1              \\N        \\N    \\N     \\N     1  \n",
       "2              \\N         1     1     \\N    \\N  \n",
       "3              \\N        \\N    \\N     \\N     1  \n",
       "4              \\N        \\N    \\N     \\N     1  "
      ]
     },
     "execution_count": 4,
     "metadata": {},
     "output_type": "execute_result"
    }
   ],
   "source": [
    "cg_data.head()"
   ]
  },
  {
   "cell_type": "code",
   "execution_count": 5,
   "metadata": {
    "collapsed": false
   },
   "outputs": [
    {
     "name": "stdout",
     "output_type": "stream",
     "text": [
      "['Mazama' 'Claude Lewis Sno-Park-USFS' 'Lost Creek' 'Hamaker'\n",
      " 'Huckleberry Mountain' 'Natural Bridge -USFS' 'Farewell Bend'\n",
      " 'Scott Creek' 'Thousand Springs Sno-Park-USFS' 'Union Creek'\n",
      " 'Farewell Bend Campground']\n",
      "[ 42.865508    43.063217    42.879145    43.056641    42.877807    42.889648\n",
      "  42.919678    42.884588    42.913045    42.91027778  42.91623889]\n",
      "[-122.166149   -122.342876   -122.037881   -122.330322   -122.337174\n",
      " -122.463867   -122.433105   -121.924772   -122.324644   -122.45\n",
      " -122.43533056]\n",
      "['\\\\N' '0']\n",
      "['\\\\N' '1' '0']\n",
      "['1' '\\\\N']\n",
      "['1' '\\\\N']\n",
      "['\\\\N' '1' '0']\n"
     ]
    }
   ],
   "source": [
    "for col in cg_data.columns:\n",
    "    print(cg_data[col].unique())\n"
   ]
  },
  {
   "cell_type": "code",
   "execution_count": 6,
   "metadata": {
    "collapsed": false
   },
   "outputs": [
    {
     "data": {
      "text/plain": [
       "0     False\n",
       "1     False\n",
       "2     False\n",
       "3     False\n",
       "4     False\n",
       "5     False\n",
       "6     False\n",
       "7     False\n",
       "8     False\n",
       "9     False\n",
       "10    False\n",
       "Name: sites_available, dtype: bool"
      ]
     },
     "execution_count": 6,
     "metadata": {},
     "output_type": "execute_result"
    }
   ],
   "source": [
    "cg_data.sites_available.isnull()"
   ]
  },
  {
   "cell_type": "code",
   "execution_count": 7,
   "metadata": {
    "collapsed": true
   },
   "outputs": [],
   "source": [
    "import numpy as np"
   ]
  },
  {
   "cell_type": "code",
   "execution_count": 8,
   "metadata": {
    "collapsed": false
   },
   "outputs": [],
   "source": [
    "cg_data_clean = cg_data.replace('\\\\N', '')"
   ]
  },
  {
   "cell_type": "code",
   "execution_count": 9,
   "metadata": {
    "collapsed": true
   },
   "outputs": [],
   "source": [
    "cg_data_clean = cg_data_clean.drop(['sites_available','firstcome'], axis=1)"
   ]
  },
  {
   "cell_type": "code",
   "execution_count": 10,
   "metadata": {
    "collapsed": false
   },
   "outputs": [
    {
     "data": {
      "text/html": [
       "<div>\n",
       "<table border=\"1\" class=\"dataframe\">\n",
       "  <thead>\n",
       "    <tr style=\"text-align: right;\">\n",
       "      <th></th>\n",
       "      <th>facilityname</th>\n",
       "      <th>facilitylatitude</th>\n",
       "      <th>facilitylongitude</th>\n",
       "      <th>flush</th>\n",
       "      <th>shower</th>\n",
       "      <th>vault</th>\n",
       "    </tr>\n",
       "  </thead>\n",
       "  <tbody>\n",
       "    <tr>\n",
       "      <th>0</th>\n",
       "      <td>Mazama</td>\n",
       "      <td>42.865508</td>\n",
       "      <td>-122.166149</td>\n",
       "      <td>1</td>\n",
       "      <td>1</td>\n",
       "      <td></td>\n",
       "    </tr>\n",
       "    <tr>\n",
       "      <th>1</th>\n",
       "      <td>Claude Lewis Sno-Park-USFS</td>\n",
       "      <td>43.063217</td>\n",
       "      <td>-122.342876</td>\n",
       "      <td></td>\n",
       "      <td></td>\n",
       "      <td>1</td>\n",
       "    </tr>\n",
       "    <tr>\n",
       "      <th>2</th>\n",
       "      <td>Lost Creek</td>\n",
       "      <td>42.879145</td>\n",
       "      <td>-122.037881</td>\n",
       "      <td>1</td>\n",
       "      <td></td>\n",
       "      <td></td>\n",
       "    </tr>\n",
       "    <tr>\n",
       "      <th>3</th>\n",
       "      <td>Hamaker</td>\n",
       "      <td>43.056641</td>\n",
       "      <td>-122.330322</td>\n",
       "      <td></td>\n",
       "      <td></td>\n",
       "      <td>1</td>\n",
       "    </tr>\n",
       "    <tr>\n",
       "      <th>4</th>\n",
       "      <td>Huckleberry Mountain</td>\n",
       "      <td>42.877807</td>\n",
       "      <td>-122.337174</td>\n",
       "      <td></td>\n",
       "      <td></td>\n",
       "      <td>1</td>\n",
       "    </tr>\n",
       "  </tbody>\n",
       "</table>\n",
       "</div>"
      ],
      "text/plain": [
       "                 facilityname  facilitylatitude  facilitylongitude flush  \\\n",
       "0                      Mazama         42.865508        -122.166149     1   \n",
       "1  Claude Lewis Sno-Park-USFS         43.063217        -122.342876         \n",
       "2                  Lost Creek         42.879145        -122.037881     1   \n",
       "3                     Hamaker         43.056641        -122.330322         \n",
       "4        Huckleberry Mountain         42.877807        -122.337174         \n",
       "\n",
       "  shower vault  \n",
       "0      1        \n",
       "1            1  \n",
       "2               \n",
       "3            1  \n",
       "4            1  "
      ]
     },
     "execution_count": 10,
     "metadata": {},
     "output_type": "execute_result"
    }
   ],
   "source": [
    "cg_data_clean.head()"
   ]
  },
  {
   "cell_type": "code",
   "execution_count": 11,
   "metadata": {
    "collapsed": false
   },
   "outputs": [],
   "source": [
    "cg_data_clean = cg_data_clean.replace({'flush': {'1':'Flush toilet', '0':''}})"
   ]
  },
  {
   "cell_type": "code",
   "execution_count": 12,
   "metadata": {
    "collapsed": true
   },
   "outputs": [],
   "source": [
    "cg_data_clean = cg_data_clean.replace({'shower': {'1':'Shower', '0':''}})\n",
    "cg_data_clean = cg_data_clean.replace({'vault': {'1':'Vault toilet', '0':''}})"
   ]
  },
  {
   "cell_type": "code",
   "execution_count": 29,
   "metadata": {
    "collapsed": false
   },
   "outputs": [],
   "source": [
    "cg_data_clean = cg_data_clean.rename(columns={'facilitylatitude':'latitude', 'facilitylongitude':'longitude'})"
   ]
  },
  {
   "cell_type": "code",
   "execution_count": 30,
   "metadata": {
    "collapsed": false
   },
   "outputs": [
    {
     "data": {
      "text/html": [
       "<div>\n",
       "<table border=\"1\" class=\"dataframe\">\n",
       "  <thead>\n",
       "    <tr style=\"text-align: right;\">\n",
       "      <th></th>\n",
       "      <th>title</th>\n",
       "      <th>latitude</th>\n",
       "      <th>longitude</th>\n",
       "      <th>flush</th>\n",
       "      <th>shower</th>\n",
       "      <th>vault</th>\n",
       "      <th>description</th>\n",
       "    </tr>\n",
       "  </thead>\n",
       "  <tbody>\n",
       "    <tr>\n",
       "      <th>0</th>\n",
       "      <td>Mazama</td>\n",
       "      <td>42.865508</td>\n",
       "      <td>-122.166149</td>\n",
       "      <td>Flush toilet</td>\n",
       "      <td>Shower</td>\n",
       "      <td></td>\n",
       "      <td>Flush toilet,Shower,</td>\n",
       "    </tr>\n",
       "    <tr>\n",
       "      <th>1</th>\n",
       "      <td>Claude Lewis Sno-Park-USFS</td>\n",
       "      <td>43.063217</td>\n",
       "      <td>-122.342876</td>\n",
       "      <td></td>\n",
       "      <td></td>\n",
       "      <td>Vault toilet</td>\n",
       "      <td>,,Vault toilet</td>\n",
       "    </tr>\n",
       "    <tr>\n",
       "      <th>2</th>\n",
       "      <td>Lost Creek</td>\n",
       "      <td>42.879145</td>\n",
       "      <td>-122.037881</td>\n",
       "      <td>Flush toilet</td>\n",
       "      <td></td>\n",
       "      <td></td>\n",
       "      <td>Flush toilet,,</td>\n",
       "    </tr>\n",
       "    <tr>\n",
       "      <th>3</th>\n",
       "      <td>Hamaker</td>\n",
       "      <td>43.056641</td>\n",
       "      <td>-122.330322</td>\n",
       "      <td></td>\n",
       "      <td></td>\n",
       "      <td>Vault toilet</td>\n",
       "      <td>,,Vault toilet</td>\n",
       "    </tr>\n",
       "    <tr>\n",
       "      <th>4</th>\n",
       "      <td>Huckleberry Mountain</td>\n",
       "      <td>42.877807</td>\n",
       "      <td>-122.337174</td>\n",
       "      <td></td>\n",
       "      <td></td>\n",
       "      <td>Vault toilet</td>\n",
       "      <td>,,Vault toilet</td>\n",
       "    </tr>\n",
       "    <tr>\n",
       "      <th>5</th>\n",
       "      <td>Natural Bridge -USFS</td>\n",
       "      <td>42.889648</td>\n",
       "      <td>-122.463867</td>\n",
       "      <td></td>\n",
       "      <td></td>\n",
       "      <td>Vault toilet</td>\n",
       "      <td>,,Vault toilet</td>\n",
       "    </tr>\n",
       "    <tr>\n",
       "      <th>6</th>\n",
       "      <td>Farewell Bend</td>\n",
       "      <td>42.919678</td>\n",
       "      <td>-122.433105</td>\n",
       "      <td></td>\n",
       "      <td></td>\n",
       "      <td></td>\n",
       "      <td>,,</td>\n",
       "    </tr>\n",
       "    <tr>\n",
       "      <th>7</th>\n",
       "      <td>Scott Creek</td>\n",
       "      <td>42.884588</td>\n",
       "      <td>-121.924772</td>\n",
       "      <td></td>\n",
       "      <td></td>\n",
       "      <td>Vault toilet</td>\n",
       "      <td>,,Vault toilet</td>\n",
       "    </tr>\n",
       "    <tr>\n",
       "      <th>8</th>\n",
       "      <td>Thousand Springs Sno-Park-USFS</td>\n",
       "      <td>42.913045</td>\n",
       "      <td>-122.324644</td>\n",
       "      <td></td>\n",
       "      <td></td>\n",
       "      <td>Vault toilet</td>\n",
       "      <td>,,Vault toilet</td>\n",
       "    </tr>\n",
       "    <tr>\n",
       "      <th>9</th>\n",
       "      <td>Union Creek</td>\n",
       "      <td>42.910278</td>\n",
       "      <td>-122.450000</td>\n",
       "      <td></td>\n",
       "      <td></td>\n",
       "      <td>Vault toilet</td>\n",
       "      <td>,,Vault toilet</td>\n",
       "    </tr>\n",
       "    <tr>\n",
       "      <th>10</th>\n",
       "      <td>Farewell Bend Campground</td>\n",
       "      <td>42.916239</td>\n",
       "      <td>-122.435331</td>\n",
       "      <td></td>\n",
       "      <td></td>\n",
       "      <td></td>\n",
       "      <td>,,</td>\n",
       "    </tr>\n",
       "  </tbody>\n",
       "</table>\n",
       "</div>"
      ],
      "text/plain": [
       "                             title   latitude   longitude         flush  \\\n",
       "0                           Mazama  42.865508 -122.166149  Flush toilet   \n",
       "1       Claude Lewis Sno-Park-USFS  43.063217 -122.342876                 \n",
       "2                       Lost Creek  42.879145 -122.037881  Flush toilet   \n",
       "3                          Hamaker  43.056641 -122.330322                 \n",
       "4             Huckleberry Mountain  42.877807 -122.337174                 \n",
       "5             Natural Bridge -USFS  42.889648 -122.463867                 \n",
       "6                    Farewell Bend  42.919678 -122.433105                 \n",
       "7                      Scott Creek  42.884588 -121.924772                 \n",
       "8   Thousand Springs Sno-Park-USFS  42.913045 -122.324644                 \n",
       "9                      Union Creek  42.910278 -122.450000                 \n",
       "10        Farewell Bend Campground  42.916239 -122.435331                 \n",
       "\n",
       "    shower         vault           description  \n",
       "0   Shower                Flush toilet,Shower,  \n",
       "1           Vault toilet        ,,Vault toilet  \n",
       "2                               Flush toilet,,  \n",
       "3           Vault toilet        ,,Vault toilet  \n",
       "4           Vault toilet        ,,Vault toilet  \n",
       "5           Vault toilet        ,,Vault toilet  \n",
       "6                                           ,,  \n",
       "7           Vault toilet        ,,Vault toilet  \n",
       "8           Vault toilet        ,,Vault toilet  \n",
       "9           Vault toilet        ,,Vault toilet  \n",
       "10                                          ,,  "
      ]
     },
     "execution_count": 30,
     "metadata": {},
     "output_type": "execute_result"
    }
   ],
   "source": [
    "cg_data_clean"
   ]
  },
  {
   "cell_type": "raw",
   "metadata": {},
   "source": [
    "# GEOJSON format\n",
    "{\n",
    "    \"type\": \"Feature\",\n",
    "    \"properties\": {\n",
    "        \"title\":\"Ainsworth State Park\",\n",
    "        \"description\": \"some text\"\n",
    "        }\n",
    "    \"geometry\": {\n",
    "        \"type\": \"Point\",\n",
    "        \"coordinates\":[-122.048974,45.59844]\n",
    "        }\n",
    "}"
   ]
  },
  {
   "cell_type": "markdown",
   "metadata": {},
   "source": [
    "Create a description field that combines our amenities into a single string"
   ]
  },
  {
   "cell_type": "code",
   "execution_count": 23,
   "metadata": {
    "collapsed": false
   },
   "outputs": [
    {
     "data": {
      "text/html": [
       "<div>\n",
       "<table border=\"1\" class=\"dataframe\">\n",
       "  <thead>\n",
       "    <tr style=\"text-align: right;\">\n",
       "      <th></th>\n",
       "      <th>title</th>\n",
       "      <th>facilitylatitude</th>\n",
       "      <th>facilitylongitude</th>\n",
       "      <th>flush</th>\n",
       "      <th>shower</th>\n",
       "      <th>vault</th>\n",
       "      <th>description</th>\n",
       "    </tr>\n",
       "  </thead>\n",
       "  <tbody>\n",
       "    <tr>\n",
       "      <th>0</th>\n",
       "      <td>Mazama</td>\n",
       "      <td>42.865508</td>\n",
       "      <td>-122.166149</td>\n",
       "      <td>Flush toilet</td>\n",
       "      <td>Shower</td>\n",
       "      <td></td>\n",
       "      <td>Flush toilet,Shower,</td>\n",
       "    </tr>\n",
       "    <tr>\n",
       "      <th>1</th>\n",
       "      <td>Claude Lewis Sno-Park-USFS</td>\n",
       "      <td>43.063217</td>\n",
       "      <td>-122.342876</td>\n",
       "      <td></td>\n",
       "      <td></td>\n",
       "      <td>Vault toilet</td>\n",
       "      <td>,,Vault toilet</td>\n",
       "    </tr>\n",
       "    <tr>\n",
       "      <th>2</th>\n",
       "      <td>Lost Creek</td>\n",
       "      <td>42.879145</td>\n",
       "      <td>-122.037881</td>\n",
       "      <td>Flush toilet</td>\n",
       "      <td></td>\n",
       "      <td></td>\n",
       "      <td>Flush toilet,,</td>\n",
       "    </tr>\n",
       "    <tr>\n",
       "      <th>3</th>\n",
       "      <td>Hamaker</td>\n",
       "      <td>43.056641</td>\n",
       "      <td>-122.330322</td>\n",
       "      <td></td>\n",
       "      <td></td>\n",
       "      <td>Vault toilet</td>\n",
       "      <td>,,Vault toilet</td>\n",
       "    </tr>\n",
       "    <tr>\n",
       "      <th>4</th>\n",
       "      <td>Huckleberry Mountain</td>\n",
       "      <td>42.877807</td>\n",
       "      <td>-122.337174</td>\n",
       "      <td></td>\n",
       "      <td></td>\n",
       "      <td>Vault toilet</td>\n",
       "      <td>,,Vault toilet</td>\n",
       "    </tr>\n",
       "    <tr>\n",
       "      <th>5</th>\n",
       "      <td>Natural Bridge -USFS</td>\n",
       "      <td>42.889648</td>\n",
       "      <td>-122.463867</td>\n",
       "      <td></td>\n",
       "      <td></td>\n",
       "      <td>Vault toilet</td>\n",
       "      <td>,,Vault toilet</td>\n",
       "    </tr>\n",
       "    <tr>\n",
       "      <th>6</th>\n",
       "      <td>Farewell Bend</td>\n",
       "      <td>42.919678</td>\n",
       "      <td>-122.433105</td>\n",
       "      <td></td>\n",
       "      <td></td>\n",
       "      <td></td>\n",
       "      <td>,,</td>\n",
       "    </tr>\n",
       "    <tr>\n",
       "      <th>7</th>\n",
       "      <td>Scott Creek</td>\n",
       "      <td>42.884588</td>\n",
       "      <td>-121.924772</td>\n",
       "      <td></td>\n",
       "      <td></td>\n",
       "      <td>Vault toilet</td>\n",
       "      <td>,,Vault toilet</td>\n",
       "    </tr>\n",
       "    <tr>\n",
       "      <th>8</th>\n",
       "      <td>Thousand Springs Sno-Park-USFS</td>\n",
       "      <td>42.913045</td>\n",
       "      <td>-122.324644</td>\n",
       "      <td></td>\n",
       "      <td></td>\n",
       "      <td>Vault toilet</td>\n",
       "      <td>,,Vault toilet</td>\n",
       "    </tr>\n",
       "    <tr>\n",
       "      <th>9</th>\n",
       "      <td>Union Creek</td>\n",
       "      <td>42.910278</td>\n",
       "      <td>-122.450000</td>\n",
       "      <td></td>\n",
       "      <td></td>\n",
       "      <td>Vault toilet</td>\n",
       "      <td>,,Vault toilet</td>\n",
       "    </tr>\n",
       "    <tr>\n",
       "      <th>10</th>\n",
       "      <td>Farewell Bend Campground</td>\n",
       "      <td>42.916239</td>\n",
       "      <td>-122.435331</td>\n",
       "      <td></td>\n",
       "      <td></td>\n",
       "      <td></td>\n",
       "      <td>,,</td>\n",
       "    </tr>\n",
       "  </tbody>\n",
       "</table>\n",
       "</div>"
      ],
      "text/plain": [
       "                             title  facilitylatitude  facilitylongitude  \\\n",
       "0                           Mazama         42.865508        -122.166149   \n",
       "1       Claude Lewis Sno-Park-USFS         43.063217        -122.342876   \n",
       "2                       Lost Creek         42.879145        -122.037881   \n",
       "3                          Hamaker         43.056641        -122.330322   \n",
       "4             Huckleberry Mountain         42.877807        -122.337174   \n",
       "5             Natural Bridge -USFS         42.889648        -122.463867   \n",
       "6                    Farewell Bend         42.919678        -122.433105   \n",
       "7                      Scott Creek         42.884588        -121.924772   \n",
       "8   Thousand Springs Sno-Park-USFS         42.913045        -122.324644   \n",
       "9                      Union Creek         42.910278        -122.450000   \n",
       "10        Farewell Bend Campground         42.916239        -122.435331   \n",
       "\n",
       "           flush  shower         vault           description  \n",
       "0   Flush toilet  Shower                Flush toilet,Shower,  \n",
       "1                         Vault toilet        ,,Vault toilet  \n",
       "2   Flush toilet                              Flush toilet,,  \n",
       "3                         Vault toilet        ,,Vault toilet  \n",
       "4                         Vault toilet        ,,Vault toilet  \n",
       "5                         Vault toilet        ,,Vault toilet  \n",
       "6                                                         ,,  \n",
       "7                         Vault toilet        ,,Vault toilet  \n",
       "8                         Vault toilet        ,,Vault toilet  \n",
       "9                         Vault toilet        ,,Vault toilet  \n",
       "10                                                        ,,  "
      ]
     },
     "execution_count": 23,
     "metadata": {},
     "output_type": "execute_result"
    }
   ],
   "source": [
    "cg_data_clean['description'] = cg_data_clean[['flush','shower','vault']].apply(lambda x: ','.join(x), axis=1)\n",
    "cg_data_clean"
   ]
  },
  {
   "cell_type": "markdown",
   "metadata": {},
   "source": [
    "using assign seems to create a series object for description, as opposed to just setting the variable = the lambda in 147 above"
   ]
  },
  {
   "cell_type": "code",
   "execution_count": null,
   "metadata": {
    "collapsed": false
   },
   "outputs": [],
   "source": [
    "#cg_data_clean.assign(description = lambda row: row['flush'] + \", \" + row['shower'] + \", \" + row['vault'])"
   ]
  },
  {
   "cell_type": "markdown",
   "metadata": {},
   "source": [
    "Use the facilityname as the title"
   ]
  },
  {
   "cell_type": "markdown",
   "metadata": {},
   "source": [
    "Clean the extraneous commas from the description"
   ]
  },
  {
   "cell_type": "code",
   "execution_count": 16,
   "metadata": {
    "collapsed": true
   },
   "outputs": [],
   "source": [
    "def clean_description(description):\n",
    "    description = description.strip()\n",
    "    while((description.startswith(',') or description.endswith(',')) and len(description) > -1):\n",
    "        if description.endswith(',') :\n",
    "            description = description[0:len(description)-1]\n",
    "        if description.startswith(',') :\n",
    "            description = description[1:len(description)]   \n",
    "        description = description.strip()\n",
    "    print (description)\n",
    "    return description\n",
    "        "
   ]
  },
  {
   "cell_type": "code",
   "execution_count": 33,
   "metadata": {
    "collapsed": false
   },
   "outputs": [
    {
     "name": "stdout",
     "output_type": "stream",
     "text": [
      "Flush toilet,Shower\n",
      "Vault toilet\n",
      "Flush toilet\n",
      "Vault toilet\n",
      "Vault toilet\n",
      "Vault toilet\n",
      "\n",
      "Vault toilet\n",
      "Vault toilet\n",
      "Vault toilet\n",
      "\n"
     ]
    }
   ],
   "source": [
    "cg_data_clean['description'] = cg_data_clean.description.apply(lambda x: clean_description(x))"
   ]
  },
  {
   "cell_type": "code",
   "execution_count": 34,
   "metadata": {
    "collapsed": false
   },
   "outputs": [],
   "source": [
    "cg_data_clean = cg_data_clean.rename(columns={'facilityname':'title'})"
   ]
  },
  {
   "cell_type": "code",
   "execution_count": 35,
   "metadata": {
    "collapsed": false
   },
   "outputs": [
    {
     "data": {
      "text/html": [
       "<div>\n",
       "<table border=\"1\" class=\"dataframe\">\n",
       "  <thead>\n",
       "    <tr style=\"text-align: right;\">\n",
       "      <th></th>\n",
       "      <th>title</th>\n",
       "      <th>latitude</th>\n",
       "      <th>longitude</th>\n",
       "      <th>flush</th>\n",
       "      <th>shower</th>\n",
       "      <th>vault</th>\n",
       "      <th>description</th>\n",
       "    </tr>\n",
       "  </thead>\n",
       "  <tbody>\n",
       "    <tr>\n",
       "      <th>0</th>\n",
       "      <td>Mazama</td>\n",
       "      <td>42.865508</td>\n",
       "      <td>-122.166149</td>\n",
       "      <td>Flush toilet</td>\n",
       "      <td>Shower</td>\n",
       "      <td></td>\n",
       "      <td>Flush toilet,Shower</td>\n",
       "    </tr>\n",
       "    <tr>\n",
       "      <th>1</th>\n",
       "      <td>Claude Lewis Sno-Park-USFS</td>\n",
       "      <td>43.063217</td>\n",
       "      <td>-122.342876</td>\n",
       "      <td></td>\n",
       "      <td></td>\n",
       "      <td>Vault toilet</td>\n",
       "      <td>Vault toilet</td>\n",
       "    </tr>\n",
       "    <tr>\n",
       "      <th>2</th>\n",
       "      <td>Lost Creek</td>\n",
       "      <td>42.879145</td>\n",
       "      <td>-122.037881</td>\n",
       "      <td>Flush toilet</td>\n",
       "      <td></td>\n",
       "      <td></td>\n",
       "      <td>Flush toilet</td>\n",
       "    </tr>\n",
       "    <tr>\n",
       "      <th>3</th>\n",
       "      <td>Hamaker</td>\n",
       "      <td>43.056641</td>\n",
       "      <td>-122.330322</td>\n",
       "      <td></td>\n",
       "      <td></td>\n",
       "      <td>Vault toilet</td>\n",
       "      <td>Vault toilet</td>\n",
       "    </tr>\n",
       "    <tr>\n",
       "      <th>4</th>\n",
       "      <td>Huckleberry Mountain</td>\n",
       "      <td>42.877807</td>\n",
       "      <td>-122.337174</td>\n",
       "      <td></td>\n",
       "      <td></td>\n",
       "      <td>Vault toilet</td>\n",
       "      <td>Vault toilet</td>\n",
       "    </tr>\n",
       "    <tr>\n",
       "      <th>5</th>\n",
       "      <td>Natural Bridge -USFS</td>\n",
       "      <td>42.889648</td>\n",
       "      <td>-122.463867</td>\n",
       "      <td></td>\n",
       "      <td></td>\n",
       "      <td>Vault toilet</td>\n",
       "      <td>Vault toilet</td>\n",
       "    </tr>\n",
       "    <tr>\n",
       "      <th>6</th>\n",
       "      <td>Farewell Bend</td>\n",
       "      <td>42.919678</td>\n",
       "      <td>-122.433105</td>\n",
       "      <td></td>\n",
       "      <td></td>\n",
       "      <td></td>\n",
       "      <td></td>\n",
       "    </tr>\n",
       "    <tr>\n",
       "      <th>7</th>\n",
       "      <td>Scott Creek</td>\n",
       "      <td>42.884588</td>\n",
       "      <td>-121.924772</td>\n",
       "      <td></td>\n",
       "      <td></td>\n",
       "      <td>Vault toilet</td>\n",
       "      <td>Vault toilet</td>\n",
       "    </tr>\n",
       "    <tr>\n",
       "      <th>8</th>\n",
       "      <td>Thousand Springs Sno-Park-USFS</td>\n",
       "      <td>42.913045</td>\n",
       "      <td>-122.324644</td>\n",
       "      <td></td>\n",
       "      <td></td>\n",
       "      <td>Vault toilet</td>\n",
       "      <td>Vault toilet</td>\n",
       "    </tr>\n",
       "    <tr>\n",
       "      <th>9</th>\n",
       "      <td>Union Creek</td>\n",
       "      <td>42.910278</td>\n",
       "      <td>-122.450000</td>\n",
       "      <td></td>\n",
       "      <td></td>\n",
       "      <td>Vault toilet</td>\n",
       "      <td>Vault toilet</td>\n",
       "    </tr>\n",
       "    <tr>\n",
       "      <th>10</th>\n",
       "      <td>Farewell Bend Campground</td>\n",
       "      <td>42.916239</td>\n",
       "      <td>-122.435331</td>\n",
       "      <td></td>\n",
       "      <td></td>\n",
       "      <td></td>\n",
       "      <td></td>\n",
       "    </tr>\n",
       "  </tbody>\n",
       "</table>\n",
       "</div>"
      ],
      "text/plain": [
       "                             title   latitude   longitude         flush  \\\n",
       "0                           Mazama  42.865508 -122.166149  Flush toilet   \n",
       "1       Claude Lewis Sno-Park-USFS  43.063217 -122.342876                 \n",
       "2                       Lost Creek  42.879145 -122.037881  Flush toilet   \n",
       "3                          Hamaker  43.056641 -122.330322                 \n",
       "4             Huckleberry Mountain  42.877807 -122.337174                 \n",
       "5             Natural Bridge -USFS  42.889648 -122.463867                 \n",
       "6                    Farewell Bend  42.919678 -122.433105                 \n",
       "7                      Scott Creek  42.884588 -121.924772                 \n",
       "8   Thousand Springs Sno-Park-USFS  42.913045 -122.324644                 \n",
       "9                      Union Creek  42.910278 -122.450000                 \n",
       "10        Farewell Bend Campground  42.916239 -122.435331                 \n",
       "\n",
       "    shower         vault          description  \n",
       "0   Shower                Flush toilet,Shower  \n",
       "1           Vault toilet         Vault toilet  \n",
       "2                                Flush toilet  \n",
       "3           Vault toilet         Vault toilet  \n",
       "4           Vault toilet         Vault toilet  \n",
       "5           Vault toilet         Vault toilet  \n",
       "6                                              \n",
       "7           Vault toilet         Vault toilet  \n",
       "8           Vault toilet         Vault toilet  \n",
       "9           Vault toilet         Vault toilet  \n",
       "10                                             "
      ]
     },
     "execution_count": 35,
     "metadata": {},
     "output_type": "execute_result"
    }
   ],
   "source": [
    "cg_data_clean"
   ]
  },
  {
   "cell_type": "code",
   "execution_count": 36,
   "metadata": {
    "collapsed": false
   },
   "outputs": [],
   "source": [
    "geojson_df = cg_data_clean[['title','latitude','longitude','description']]"
   ]
  },
  {
   "cell_type": "code",
   "execution_count": 37,
   "metadata": {
    "collapsed": false
   },
   "outputs": [
    {
     "data": {
      "text/html": [
       "<div>\n",
       "<table border=\"1\" class=\"dataframe\">\n",
       "  <thead>\n",
       "    <tr style=\"text-align: right;\">\n",
       "      <th></th>\n",
       "      <th>title</th>\n",
       "      <th>latitude</th>\n",
       "      <th>longitude</th>\n",
       "      <th>description</th>\n",
       "    </tr>\n",
       "  </thead>\n",
       "  <tbody>\n",
       "    <tr>\n",
       "      <th>0</th>\n",
       "      <td>Mazama</td>\n",
       "      <td>42.865508</td>\n",
       "      <td>-122.166149</td>\n",
       "      <td>Flush toilet,Shower</td>\n",
       "    </tr>\n",
       "    <tr>\n",
       "      <th>1</th>\n",
       "      <td>Claude Lewis Sno-Park-USFS</td>\n",
       "      <td>43.063217</td>\n",
       "      <td>-122.342876</td>\n",
       "      <td>Vault toilet</td>\n",
       "    </tr>\n",
       "    <tr>\n",
       "      <th>2</th>\n",
       "      <td>Lost Creek</td>\n",
       "      <td>42.879145</td>\n",
       "      <td>-122.037881</td>\n",
       "      <td>Flush toilet</td>\n",
       "    </tr>\n",
       "    <tr>\n",
       "      <th>3</th>\n",
       "      <td>Hamaker</td>\n",
       "      <td>43.056641</td>\n",
       "      <td>-122.330322</td>\n",
       "      <td>Vault toilet</td>\n",
       "    </tr>\n",
       "    <tr>\n",
       "      <th>4</th>\n",
       "      <td>Huckleberry Mountain</td>\n",
       "      <td>42.877807</td>\n",
       "      <td>-122.337174</td>\n",
       "      <td>Vault toilet</td>\n",
       "    </tr>\n",
       "    <tr>\n",
       "      <th>5</th>\n",
       "      <td>Natural Bridge -USFS</td>\n",
       "      <td>42.889648</td>\n",
       "      <td>-122.463867</td>\n",
       "      <td>Vault toilet</td>\n",
       "    </tr>\n",
       "    <tr>\n",
       "      <th>6</th>\n",
       "      <td>Farewell Bend</td>\n",
       "      <td>42.919678</td>\n",
       "      <td>-122.433105</td>\n",
       "      <td></td>\n",
       "    </tr>\n",
       "    <tr>\n",
       "      <th>7</th>\n",
       "      <td>Scott Creek</td>\n",
       "      <td>42.884588</td>\n",
       "      <td>-121.924772</td>\n",
       "      <td>Vault toilet</td>\n",
       "    </tr>\n",
       "    <tr>\n",
       "      <th>8</th>\n",
       "      <td>Thousand Springs Sno-Park-USFS</td>\n",
       "      <td>42.913045</td>\n",
       "      <td>-122.324644</td>\n",
       "      <td>Vault toilet</td>\n",
       "    </tr>\n",
       "    <tr>\n",
       "      <th>9</th>\n",
       "      <td>Union Creek</td>\n",
       "      <td>42.910278</td>\n",
       "      <td>-122.450000</td>\n",
       "      <td>Vault toilet</td>\n",
       "    </tr>\n",
       "    <tr>\n",
       "      <th>10</th>\n",
       "      <td>Farewell Bend Campground</td>\n",
       "      <td>42.916239</td>\n",
       "      <td>-122.435331</td>\n",
       "      <td></td>\n",
       "    </tr>\n",
       "  </tbody>\n",
       "</table>\n",
       "</div>"
      ],
      "text/plain": [
       "                             title   latitude   longitude          description\n",
       "0                           Mazama  42.865508 -122.166149  Flush toilet,Shower\n",
       "1       Claude Lewis Sno-Park-USFS  43.063217 -122.342876         Vault toilet\n",
       "2                       Lost Creek  42.879145 -122.037881         Flush toilet\n",
       "3                          Hamaker  43.056641 -122.330322         Vault toilet\n",
       "4             Huckleberry Mountain  42.877807 -122.337174         Vault toilet\n",
       "5             Natural Bridge -USFS  42.889648 -122.463867         Vault toilet\n",
       "6                    Farewell Bend  42.919678 -122.433105                     \n",
       "7                      Scott Creek  42.884588 -121.924772         Vault toilet\n",
       "8   Thousand Springs Sno-Park-USFS  42.913045 -122.324644         Vault toilet\n",
       "9                      Union Creek  42.910278 -122.450000         Vault toilet\n",
       "10        Farewell Bend Campground  42.916239 -122.435331                     "
      ]
     },
     "execution_count": 37,
     "metadata": {},
     "output_type": "execute_result"
    }
   ],
   "source": [
    "geojson_df"
   ]
  },
  {
   "cell_type": "code",
   "execution_count": 58,
   "metadata": {
    "collapsed": false
   },
   "outputs": [],
   "source": [
    "def geojson_from_row(x):\n",
    "    feature = \n",
    "    geojson = \"{ \\\"type\\\": \\\"Feature\\\", \\\"properties\\\": { \\\"title\\\":\"\n",
    "    geojson = geojson + \"\\\"\" + str(x[0]) + \"\\\", \\\"description\\\":\"\n",
    "    geojson = geojson + \"\\\"\" + str(x[3]) + \"\\\" } \"\n",
    "    geojson = geojson + \"\\\"geometry\\\": { \\\"type\\\": \\\"Point\\\", \\\"coordinates\\\":\"\n",
    "    geojson = geojson + \"[\" + str(x[2]) + \",\" + str(x[1]) + \"] } }\"\n",
    "    return geojson"
   ]
  },
  {
   "cell_type": "code",
   "execution_count": 136,
   "metadata": {
    "collapsed": true
   },
   "outputs": [],
   "source": [
    "collection = {'type':'FeatureCollection', 'features':[]}"
   ]
  },
  {
   "cell_type": "code",
   "execution_count": 137,
   "metadata": {
    "collapsed": true
   },
   "outputs": [],
   "source": [
    "# expects\n",
    "# title = x[0]\n",
    "# latitude = x[1]\n",
    "# longitude = x[2]\n",
    "# description = x[3]\n",
    "def feature_from_row(x):\n",
    "    title = x[0]\n",
    "    latitude = x[1]\n",
    "    longitude = x[2]\n",
    "    description = x[3]\n",
    "    feature = { 'type': 'Feature', \n",
    "               'properties': { 'title': '', 'description': '', 'marker-size':'small'},\n",
    "               'geometry': { 'type': 'Point', 'coordinates': []}\n",
    "               }\n",
    "    feature['geometry']['coordinates'] = [longitude, latitude]\n",
    "    feature['properties']['title'] = title\n",
    "    feature['properties']['description'] = description\n",
    "    collection['features'].append(feature)\n",
    "    return feature"
   ]
  },
  {
   "cell_type": "code",
   "execution_count": 138,
   "metadata": {
    "collapsed": false
   },
   "outputs": [],
   "source": [
    "geojson_series = geojson_df.apply(lambda x: feature_from_row(x), axis=1)"
   ]
  },
  {
   "cell_type": "code",
   "execution_count": 106,
   "metadata": {
    "collapsed": false
   },
   "outputs": [],
   "source": []
  },
  {
   "cell_type": "code",
   "execution_count": 131,
   "metadata": {
    "collapsed": false
   },
   "outputs": [
    {
     "data": {
      "text/plain": [
       "{'features': [{'geometry': {'coordinates': [[-122.166149, 42.865508]],\n",
       "    'type': 'Point'},\n",
       "   'properties': {'description': 'Flush toilet,Shower',\n",
       "    'marker-size': 'small',\n",
       "    'title': 'Mazama'},\n",
       "   'type': 'Feature'},\n",
       "  {'geometry': {'coordinates': [[-122.342876, 43.063217]], 'type': 'Point'},\n",
       "   'properties': {'description': 'Vault toilet',\n",
       "    'marker-size': 'small',\n",
       "    'title': 'Claude Lewis Sno-Park-USFS'},\n",
       "   'type': 'Feature'},\n",
       "  {'geometry': {'coordinates': [[-122.037881, 42.879145]], 'type': 'Point'},\n",
       "   'properties': {'description': 'Flush toilet',\n",
       "    'marker-size': 'small',\n",
       "    'title': 'Lost Creek'},\n",
       "   'type': 'Feature'},\n",
       "  {'geometry': {'coordinates': [[-122.330322, 43.056641]], 'type': 'Point'},\n",
       "   'properties': {'description': 'Vault toilet',\n",
       "    'marker-size': 'small',\n",
       "    'title': 'Hamaker'},\n",
       "   'type': 'Feature'},\n",
       "  {'geometry': {'coordinates': [[-122.337174, 42.877807]], 'type': 'Point'},\n",
       "   'properties': {'description': 'Vault toilet',\n",
       "    'marker-size': 'small',\n",
       "    'title': 'Huckleberry Mountain'},\n",
       "   'type': 'Feature'},\n",
       "  {'geometry': {'coordinates': [[-122.463867, 42.889648]], 'type': 'Point'},\n",
       "   'properties': {'description': 'Vault toilet',\n",
       "    'marker-size': 'small',\n",
       "    'title': 'Natural Bridge -USFS'},\n",
       "   'type': 'Feature'},\n",
       "  {'geometry': {'coordinates': [[-122.433105, 42.91967800000001]],\n",
       "    'type': 'Point'},\n",
       "   'properties': {'description': '',\n",
       "    'marker-size': 'small',\n",
       "    'title': 'Farewell Bend'},\n",
       "   'type': 'Feature'},\n",
       "  {'geometry': {'coordinates': [[-121.924772, 42.884588]], 'type': 'Point'},\n",
       "   'properties': {'description': 'Vault toilet',\n",
       "    'marker-size': 'small',\n",
       "    'title': 'Scott Creek'},\n",
       "   'type': 'Feature'},\n",
       "  {'geometry': {'coordinates': [[-122.324644, 42.913045]], 'type': 'Point'},\n",
       "   'properties': {'description': 'Vault toilet',\n",
       "    'marker-size': 'small',\n",
       "    'title': 'Thousand Springs Sno-Park-USFS'},\n",
       "   'type': 'Feature'},\n",
       "  {'geometry': {'coordinates': [[-122.45, 42.910277777800005]],\n",
       "    'type': 'Point'},\n",
       "   'properties': {'description': 'Vault toilet',\n",
       "    'marker-size': 'small',\n",
       "    'title': 'Union Creek'},\n",
       "   'type': 'Feature'},\n",
       "  {'geometry': {'coordinates': [[-122.43533055555599, 42.9162388889]],\n",
       "    'type': 'Point'},\n",
       "   'properties': {'description': '',\n",
       "    'marker-size': 'small',\n",
       "    'title': 'Farewell Bend Campground'},\n",
       "   'type': 'Feature'}],\n",
       " 'type': 'FeatureCollection'}"
      ]
     },
     "execution_count": 131,
     "metadata": {},
     "output_type": "execute_result"
    }
   ],
   "source": [
    "collection"
   ]
  },
  {
   "cell_type": "code",
   "execution_count": 118,
   "metadata": {
    "collapsed": false
   },
   "outputs": [],
   "source": []
  },
  {
   "cell_type": "code",
   "execution_count": 121,
   "metadata": {
    "collapsed": true
   },
   "outputs": [],
   "source": [
    "from pandas import json"
   ]
  },
  {
   "cell_type": "code",
   "execution_count": 132,
   "metadata": {
    "collapsed": false
   },
   "outputs": [],
   "source": [
    "with open('collection.geojson', 'w') as outfile:\n",
    "    json.dump(collection, outfile)"
   ]
  },
  {
   "cell_type": "code",
   "execution_count": 133,
   "metadata": {
    "collapsed": true
   },
   "outputs": [],
   "source": [
    "test = pd.read_json('https://raw.githubusercontent.com/gizm00/blog_code/master/appendto/python_maps/collection.geojson')"
   ]
  },
  {
   "cell_type": "code",
   "execution_count": 134,
   "metadata": {
    "collapsed": false
   },
   "outputs": [
    {
     "data": {
      "text/html": [
       "<div>\n",
       "<table border=\"1\" class=\"dataframe\">\n",
       "  <thead>\n",
       "    <tr style=\"text-align: right;\">\n",
       "      <th></th>\n",
       "      <th>features</th>\n",
       "      <th>type</th>\n",
       "    </tr>\n",
       "  </thead>\n",
       "  <tbody>\n",
       "    <tr>\n",
       "      <th>0</th>\n",
       "      <td>{'type': 'Feature', 'geometry': {'type': 'Poin...</td>\n",
       "      <td>FeatureCollection</td>\n",
       "    </tr>\n",
       "    <tr>\n",
       "      <th>1</th>\n",
       "      <td>{'type': 'Feature', 'geometry': {'type': 'Poin...</td>\n",
       "      <td>FeatureCollection</td>\n",
       "    </tr>\n",
       "    <tr>\n",
       "      <th>2</th>\n",
       "      <td>{'type': 'Feature', 'geometry': {'type': 'Poin...</td>\n",
       "      <td>FeatureCollection</td>\n",
       "    </tr>\n",
       "    <tr>\n",
       "      <th>3</th>\n",
       "      <td>{'type': 'Feature', 'geometry': {'type': 'Poin...</td>\n",
       "      <td>FeatureCollection</td>\n",
       "    </tr>\n",
       "    <tr>\n",
       "      <th>4</th>\n",
       "      <td>{'type': 'Feature', 'geometry': {'type': 'Poin...</td>\n",
       "      <td>FeatureCollection</td>\n",
       "    </tr>\n",
       "    <tr>\n",
       "      <th>5</th>\n",
       "      <td>{'type': 'Feature', 'geometry': {'type': 'Poin...</td>\n",
       "      <td>FeatureCollection</td>\n",
       "    </tr>\n",
       "    <tr>\n",
       "      <th>6</th>\n",
       "      <td>{'type': 'Feature', 'geometry': {'type': 'Poin...</td>\n",
       "      <td>FeatureCollection</td>\n",
       "    </tr>\n",
       "    <tr>\n",
       "      <th>7</th>\n",
       "      <td>{'type': 'Feature', 'geometry': {'type': 'Poin...</td>\n",
       "      <td>FeatureCollection</td>\n",
       "    </tr>\n",
       "    <tr>\n",
       "      <th>8</th>\n",
       "      <td>{'type': 'Feature', 'geometry': {'type': 'Poin...</td>\n",
       "      <td>FeatureCollection</td>\n",
       "    </tr>\n",
       "    <tr>\n",
       "      <th>9</th>\n",
       "      <td>{'type': 'Feature', 'geometry': {'type': 'Poin...</td>\n",
       "      <td>FeatureCollection</td>\n",
       "    </tr>\n",
       "    <tr>\n",
       "      <th>10</th>\n",
       "      <td>{'type': 'Feature', 'geometry': {'type': 'Poin...</td>\n",
       "      <td>FeatureCollection</td>\n",
       "    </tr>\n",
       "  </tbody>\n",
       "</table>\n",
       "</div>"
      ],
      "text/plain": [
       "                                             features               type\n",
       "0   {'type': 'Feature', 'geometry': {'type': 'Poin...  FeatureCollection\n",
       "1   {'type': 'Feature', 'geometry': {'type': 'Poin...  FeatureCollection\n",
       "2   {'type': 'Feature', 'geometry': {'type': 'Poin...  FeatureCollection\n",
       "3   {'type': 'Feature', 'geometry': {'type': 'Poin...  FeatureCollection\n",
       "4   {'type': 'Feature', 'geometry': {'type': 'Poin...  FeatureCollection\n",
       "5   {'type': 'Feature', 'geometry': {'type': 'Poin...  FeatureCollection\n",
       "6   {'type': 'Feature', 'geometry': {'type': 'Poin...  FeatureCollection\n",
       "7   {'type': 'Feature', 'geometry': {'type': 'Poin...  FeatureCollection\n",
       "8   {'type': 'Feature', 'geometry': {'type': 'Poin...  FeatureCollection\n",
       "9   {'type': 'Feature', 'geometry': {'type': 'Poin...  FeatureCollection\n",
       "10  {'type': 'Feature', 'geometry': {'type': 'Poin...  FeatureCollection"
      ]
     },
     "execution_count": 134,
     "metadata": {},
     "output_type": "execute_result"
    }
   ],
   "source": [
    "test"
   ]
  },
  {
   "cell_type": "code",
   "execution_count": null,
   "metadata": {
    "collapsed": true
   },
   "outputs": [],
   "source": []
  }
 ],
 "metadata": {
  "kernelspec": {
   "display_name": "Python 3",
   "language": "python",
   "name": "python3"
  },
  "language_info": {
   "codemirror_mode": {
    "name": "ipython",
    "version": 3
   },
   "file_extension": ".py",
   "mimetype": "text/x-python",
   "name": "python",
   "nbconvert_exporter": "python",
   "pygments_lexer": "ipython3",
   "version": "3.4.3"
  }
 },
 "nbformat": 4,
 "nbformat_minor": 0
}
